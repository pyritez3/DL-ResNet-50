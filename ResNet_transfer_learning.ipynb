{
  "cells": [
    {
      "cell_type": "markdown",
      "metadata": {
        "id": "I33pkHlaWtZK"
      },
      "source": [
        "**DEEP LEARNING**\n",
        "\n",
        "Transfer Learning ResNet 50 -Rice image Dataset\n",
        "\n",
        "GABRIEL JOSHUA . R"
      ]
    },
    {
      "cell_type": "markdown",
      "metadata": {},
      "source": [
        "### Import necessary libraries"
      ]
    },
    {
      "cell_type": "code",
      "execution_count": null,
      "metadata": {
        "vscode": {
          "languageId": "plaintext"
        }
      },
      "outputs": [],
      "source": [
        "import tensorflow as tf\n",
        "import matplotlib.pyplot as plt\n",
        "from tensorflow.keras import layers, models\n",
        "from tensorflow.keras.layers import Dense"
      ]
    },
    {
      "cell_type": "markdown",
      "metadata": {},
      "source": [
        "Assuming you have a dummy dataset stored in '/content/Rice_Image_Dataset'\n",
        "\n",
        "Make sure to organize the data into 'train', 'val', and 'test' folders\n"
      ]
    },
    {
      "cell_type": "markdown",
      "metadata": {},
      "source": [
        "### Data augmentation and loading the dataset"
      ]
    },
    {
      "cell_type": "code",
      "execution_count": null,
      "metadata": {
        "vscode": {
          "languageId": "plaintext"
        }
      },
      "outputs": [],
      "source": [
        "train_datagen = tf.keras.preprocessing.image.ImageDataGenerator(\n",
        "    rescale=1./255,\n",
        "    zoom_range=0.2,\n",
        "    horizontal_flip=True\n",
        ")\n",
        "\n",
        "val_datagen = tf.keras.preprocessing.image.ImageDataGenerator(\n",
        "    rescale=1./255\n",
        ")\n",
        "\n",
        "test_datagen = tf.keras.preprocessing.image.ImageDataGenerator(\n",
        "    rescale=1./255\n",
        ")"
      ]
    },
    {
      "cell_type": "markdown",
      "metadata": {},
      "source": [
        "### Splitting the data into train, validation, and test sets\n",
        "### Here, '/content/Rice_Image_Dataset' should be the path to your dataset folder\n"
      ]
    },
    {
      "cell_type": "code",
      "execution_count": null,
      "metadata": {
        "vscode": {
          "languageId": "plaintext"
        }
      },
      "outputs": [],
      "source": [
        "train_data = train_datagen.flow_from_directory(\n",
        "    '/content/Rice_Image_Dataset/train',\n",
        "    target_size=(256, 256),\n",
        "    batch_size=32\n",
        ")\n",
        "\n",
        "val_data = val_datagen.flow_from_directory(\n",
        "    '/content/Rice_Image_Dataset/val',\n",
        "    target_size=(256, 256),\n",
        "    batch_size=32\n",
        ")\n",
        "\n",
        "test_data = test_datagen.flow_from_directory(\n",
        "    '/content/Rice_Image_Dataset/test',\n",
        "    target_size=(256, 256),\n",
        "    batch_size=32\n",
        ")\n",
        "\n",
        "num_classes = train_data.num_classes\n",
        "nb_train_samples = train_data.samples\n",
        "nb_val_samples = val_data.samples"
      ]
    },
    {
      "cell_type": "markdown",
      "metadata": {},
      "source": [
        "### Function to create a custom ResNet50 model with fine-tuning options"
      ]
    },
    {
      "cell_type": "code",
      "execution_count": null,
      "metadata": {
        "vscode": {
          "languageId": "plaintext"
        }
      },
      "outputs": [],
      "source": [
        "def Resnet50_model_finetuning(freeze_baselayers):\n",
        "    base_model = tf.keras.applications.resnet50.ResNet50(\n",
        "        include_top=False,\n",
        "        weights='imagenet',\n",
        "        input_tensor=None,\n",
        "        input_shape=(256, 256, 3),\n",
        "        classes=5  # Change this to the number of classes in your dataset\n",
        "    )\n",
        "    \n",
        "    # Freeze base model layers if specified\n",
        "    if freeze_baselayers:\n",
        "        base_model.trainable = False\n",
        "        \n",
        "    # Building the new classification layers on top of the base model\n",
        "    input = base_model.inputs\n",
        "    mod = base_model.output\n",
        "    mod = tf.keras.layers.Flatten()(mod)\n",
        "    mod = Dense(64, activation=\"relu\")(mod)\n",
        "    mod = Dense(64, activation=\"relu\")(mod)\n",
        "    output = Dense(num_classes, activation='softmax')(mod)\n",
        "\n",
        "    # Creating the new model\n",
        "    new_model = tf.keras.Model(inputs=input, outputs=output)\n",
        "    return new_model"
      ]
    },
    {
      "cell_type": "markdown",
      "metadata": {},
      "source": [
        "### Creating the model with fine-tuned ResNet50 base and custom classification layers\n"
      ]
    },
    {
      "cell_type": "code",
      "execution_count": null,
      "metadata": {
        "vscode": {
          "languageId": "plaintext"
        }
      },
      "outputs": [],
      "source": [
        "model = Resnet50_model_finetuning(freeze_baselayers=True)"
      ]
    },
    {
      "cell_type": "markdown",
      "metadata": {},
      "source": [
        "### Compiling the model with optimizer, loss, and metrics"
      ]
    },
    {
      "cell_type": "code",
      "execution_count": null,
      "metadata": {
        "vscode": {
          "languageId": "plaintext"
        }
      },
      "outputs": [],
      "source": [
        "model.compile(\n",
        "    optimizer=tf.keras.optimizers.Adam(learning_rate=0.001),\n",
        "    loss=tf.keras.losses.CategoricalCrossentropy(from_logits=False),\n",
        "    metrics=['accuracy']\n",
        ")"
      ]
    },
    {
      "cell_type": "markdown",
      "metadata": {},
      "source": [
        "### Training the model"
      ]
    },
    {
      "cell_type": "code",
      "execution_count": null,
      "metadata": {
        "vscode": {
          "languageId": "plaintext"
        }
      },
      "outputs": [],
      "source": [
        "history = model.fit(train_data, epochs=10, validation_data=val_data)"
      ]
    },
    {
      "cell_type": "markdown",
      "metadata": {},
      "source": [
        "### Plotting the training and validation accuracy"
      ]
    },
    {
      "cell_type": "code",
      "execution_count": null,
      "metadata": {
        "vscode": {
          "languageId": "plaintext"
        }
      },
      "outputs": [],
      "source": [
        "plt.plot(history.history[\"accuracy\"])\n",
        "plt.plot(history.history[\"val_accuracy\"])\n",
        "plt.title(\"Model Accuracy\")\n",
        "plt.ylabel(\"accuracy\")\n",
        "plt.xlabel(\"epochs\")\n",
        "plt.legend([\"train\", \"test\"], loc=\"upper left\")\n",
        "plt.show()"
      ]
    },
    {
      "cell_type": "markdown",
      "metadata": {},
      "source": [
        "### Plotting the training and validation loss"
      ]
    },
    {
      "cell_type": "code",
      "execution_count": null,
      "metadata": {
        "vscode": {
          "languageId": "plaintext"
        }
      },
      "outputs": [],
      "source": [
        "plt.plot(history.history[\"loss\"])\n",
        "plt.plot(history.history[\"val_loss\"])\n",
        "plt.title(\"Model Loss\")\n",
        "plt.ylabel(\"loss\")\n",
        "plt.xlabel(\"epochs\")\n",
        "plt.legend([\"train\", \"test\"], loc=\"upper left\")\n",
        "plt.show()"
      ]
    },
    {
      "cell_type": "markdown",
      "metadata": {},
      "source": [
        "### Evaluating the model on the test set"
      ]
    },
    {
      "cell_type": "code",
      "execution_count": null,
      "metadata": {
        "vscode": {
          "languageId": "plaintext"
        }
      },
      "outputs": [],
      "source": [
        "results = model.evaluate(test_data, verbose=0)\n",
        "print(\"Loss: {:.5f}\".format(results[0]))\n",
        "print(\"Accuracy: {:.2f}%\".format(results[1] * 100))"
      ]
    }
  ],
  "metadata": {
    "accelerator": "GPU",
    "colab": {
      "provenance": []
    },
    "gpuClass": "standard",
    "kernelspec": {
      "display_name": "Python 3",
      "name": "python3"
    },
    "language_info": {
      "name": "python"
    }
  },
  "nbformat": 4,
  "nbformat_minor": 0
}
